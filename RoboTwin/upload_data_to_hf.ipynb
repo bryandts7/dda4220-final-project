{
 "cells": [
  {
   "cell_type": "code",
   "execution_count": 1,
   "id": "d8d89f40",
   "metadata": {},
   "outputs": [],
   "source": [
    "from datasets import Dataset, Image\n",
    "import os\n",
    "from PIL import Image as PILImage\n",
    "from pathlib import Path"
   ]
  },
  {
   "cell_type": "code",
   "execution_count": 2,
   "id": "2ebe0179",
   "metadata": {},
   "outputs": [],
   "source": [
    "def generate_frame_pairs(root_dir, task_instruction, frame_offset=50):\n",
    "    pairs = []\n",
    "    \n",
    "    # Iterate through each episode\n",
    "    for episode_dir in sorted(Path(root_dir).glob('episode*')):\n",
    "        color_dir = episode_dir / 'camera' / 'color' / 'head'\n",
    "        if not color_dir.exists():\n",
    "            continue\n",
    "            \n",
    "        # Get all frame paths sorted numerically\n",
    "        frame_paths = sorted(color_dir.glob('*.png'), key=lambda x: int(x.stem))\n",
    "        num_frames = len(frame_paths)\n",
    "        \n",
    "        # Generate pairs (current_frame, future_frame)\n",
    "        for i in range(num_frames - frame_offset):\n",
    "            current_frame = str(frame_paths[i])\n",
    "            future_frame = str(frame_paths[i + frame_offset])\n",
    "            pairs.append({\n",
    "                'current_frame': current_frame,\n",
    "                'instruction': task_instruction,\n",
    "                'future_frame': future_frame\n",
    "            })\n",
    "    \n",
    "    return pairs"
   ]
  },
  {
   "cell_type": "code",
   "execution_count": 3,
   "id": "94f9309d",
   "metadata": {},
   "outputs": [],
   "source": [
    "# Generate pairs for all tasks\n",
    "tasks = [\n",
    "    ('block_hammer_beat_D435', 'beat the block with the hammer'),\n",
    "    ('block_handover_D435', 'handover the blocks'),\n",
    "    ('blocks_stack_easy_D435', 'stack blocks')\n",
    "]\n"
   ]
  },
  {
   "cell_type": "code",
   "execution_count": 4,
   "id": "66066f51",
   "metadata": {},
   "outputs": [],
   "source": [
    "all_pairs = []\n",
    "for task_dir, instruction in tasks:\n",
    "    all_pairs.extend(generate_frame_pairs(task_dir, instruction))\n"
   ]
  },
  {
   "cell_type": "code",
   "execution_count": 5,
   "id": "07b819f0",
   "metadata": {},
   "outputs": [
    {
     "data": {
      "text/plain": [
       "91303"
      ]
     },
     "execution_count": 5,
     "metadata": {},
     "output_type": "execute_result"
    }
   ],
   "source": [
    "len(all_pairs)\n"
   ]
  },
  {
   "cell_type": "code",
   "execution_count": 14,
   "id": "af4b5ff2",
   "metadata": {},
   "outputs": [
    {
     "data": {
      "text/plain": [
       "[{'current_frame': 'block_hammer_beat_D435/episode0/camera/color/head/0.png',\n",
       "  'instruction': 'beat the block with the hammer',\n",
       "  'future_frame': 'block_hammer_beat_D435/episode0/camera/color/head/50.png'},\n",
       " {'current_frame': 'block_hammer_beat_D435/episode0/camera/color/head/1.png',\n",
       "  'instruction': 'beat the block with the hammer',\n",
       "  'future_frame': 'block_hammer_beat_D435/episode0/camera/color/head/51.png'},\n",
       " {'current_frame': 'block_hammer_beat_D435/episode0/camera/color/head/2.png',\n",
       "  'instruction': 'beat the block with the hammer',\n",
       "  'future_frame': 'block_hammer_beat_D435/episode0/camera/color/head/52.png'},\n",
       " {'current_frame': 'block_hammer_beat_D435/episode0/camera/color/head/3.png',\n",
       "  'instruction': 'beat the block with the hammer',\n",
       "  'future_frame': 'block_hammer_beat_D435/episode0/camera/color/head/53.png'},\n",
       " {'current_frame': 'block_hammer_beat_D435/episode0/camera/color/head/4.png',\n",
       "  'instruction': 'beat the block with the hammer',\n",
       "  'future_frame': 'block_hammer_beat_D435/episode0/camera/color/head/54.png'}]"
      ]
     },
     "execution_count": 14,
     "metadata": {},
     "output_type": "execute_result"
    }
   ],
   "source": [
    "all_pairs[0:5]"
   ]
  },
  {
   "cell_type": "code",
   "execution_count": 18,
   "id": "00ff608d",
   "metadata": {},
   "outputs": [
    {
     "data": {
      "text/plain": [
       "[{'current_frame': 'block_handover_D435/episode42/camera/color/head/361.png',\n",
       "  'instruction': 'handover the blocks',\n",
       "  'future_frame': 'block_handover_D435/episode42/camera/color/head/411.png'},\n",
       " {'current_frame': 'block_handover_D435/episode42/camera/color/head/362.png',\n",
       "  'instruction': 'handover the blocks',\n",
       "  'future_frame': 'block_handover_D435/episode42/camera/color/head/412.png'},\n",
       " {'current_frame': 'block_handover_D435/episode42/camera/color/head/363.png',\n",
       "  'instruction': 'handover the blocks',\n",
       "  'future_frame': 'block_handover_D435/episode42/camera/color/head/413.png'},\n",
       " {'current_frame': 'block_handover_D435/episode42/camera/color/head/364.png',\n",
       "  'instruction': 'handover the blocks',\n",
       "  'future_frame': 'block_handover_D435/episode42/camera/color/head/414.png'},\n",
       " {'current_frame': 'block_handover_D435/episode42/camera/color/head/365.png',\n",
       "  'instruction': 'handover the blocks',\n",
       "  'future_frame': 'block_handover_D435/episode42/camera/color/head/415.png'}]"
      ]
     },
     "execution_count": 18,
     "metadata": {},
     "output_type": "execute_result"
    }
   ],
   "source": [
    "all_pairs[30000:30005]"
   ]
  },
  {
   "cell_type": "code",
   "execution_count": 6,
   "id": "7ceab049",
   "metadata": {},
   "outputs": [
    {
     "data": {
      "text/plain": [
       "{'current_frame': 'blocks_stack_easy_D435/episode99/camera/color/head/377.png',\n",
       " 'instruction': 'stack blocks',\n",
       " 'future_frame': 'blocks_stack_easy_D435/episode99/camera/color/head/427.png'}"
      ]
     },
     "execution_count": 6,
     "metadata": {},
     "output_type": "execute_result"
    }
   ],
   "source": [
    "all_pairs[-1]"
   ]
  },
  {
   "cell_type": "code",
   "execution_count": 7,
   "id": "ac27ed7b",
   "metadata": {},
   "outputs": [],
   "source": [
    "# Create HuggingFace dataset\n",
    "def gen():\n",
    "    for pair in all_pairs:\n",
    "        yield {\n",
    "            'current_frame': PILImage.open(pair['current_frame']),\n",
    "            'instruction': pair['instruction'],\n",
    "            'future_frame': PILImage.open(pair['future_frame'])\n",
    "        }"
   ]
  },
  {
   "cell_type": "code",
   "execution_count": 8,
   "id": "80cea908",
   "metadata": {},
   "outputs": [],
   "source": [
    "dataset = Dataset.from_generator(gen)"
   ]
  },
  {
   "cell_type": "code",
   "execution_count": 9,
   "id": "3e9fc893",
   "metadata": {},
   "outputs": [
    {
     "data": {
      "text/plain": [
       "Dataset({\n",
       "    features: ['current_frame', 'instruction', 'future_frame'],\n",
       "    num_rows: 91303\n",
       "})"
      ]
     },
     "execution_count": 9,
     "metadata": {},
     "output_type": "execute_result"
    }
   ],
   "source": [
    "dataset"
   ]
  },
  {
   "cell_type": "code",
   "execution_count": null,
   "id": "af675a03",
   "metadata": {},
   "outputs": [],
   "source": [
    "!export HF_ENDPOINT=https://hf-mirror.com\n",
    "!huggingface-cli upload bryandts/robot-action-prediction-dataset ./data/robot_action_prediction_dataset /train --repo-type=dataset --token {fill_the_token}"
   ]
  }
 ],
 "metadata": {
  "kernelspec": {
   "display_name": "RoboTwin",
   "language": "python",
   "name": "python3"
  },
  "language_info": {
   "codemirror_mode": {
    "name": "ipython",
    "version": 3
   },
   "file_extension": ".py",
   "mimetype": "text/x-python",
   "name": "python",
   "nbconvert_exporter": "python",
   "pygments_lexer": "ipython3",
   "version": "3.8.20"
  }
 },
 "nbformat": 4,
 "nbformat_minor": 5
}
